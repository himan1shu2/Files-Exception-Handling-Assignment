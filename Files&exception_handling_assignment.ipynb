{
  "nbformat": 4,
  "nbformat_minor": 0,
  "metadata": {
    "colab": {
      "provenance": []
    },
    "kernelspec": {
      "name": "python3",
      "display_name": "Python 3"
    },
    "language_info": {
      "name": "python"
    }
  },
  "cells": [
    {
      "cell_type": "markdown",
      "source": [
        "1.What is the difference between interpreted and compiled languages?\n",
        "  - Compiled Languages:\n",
        "     - Code is translated before running by a compiler into machine code.\n",
        "     - Faster execution.\n",
        "     - Examples: C, C++, Go\n",
        "  - Interpreted Languages:\n",
        "     - Code is executed line-by-line at runtime by an interpreter.\n",
        "     - Slower, but easier to test and debug.\n",
        "     - Examples: Python, JavaScript, Rub   \n",
        "\n",
        "2.What is exception handling in Python?\n",
        "  - Exception handling in Python is a way to manage errors during program execution without crashing the program.\n",
        "\n",
        "  - Key Keywords:\n",
        "    - try: Code that might cause an error.\n",
        "    - except: Code that runs if an error occurs.\n",
        "    - else: Runs if no error occurs.\n",
        "    - finally: Always runs (error or not).\n",
        "            try:\n",
        "                x = 10 / 0\n",
        "            except ZeroDivisionError:\n",
        "                 print(\"You can't divide by zero!\")\n",
        "\n",
        "3.What is the purpose of the finally block in exception handling?\n",
        "  - The finally block in Python is used to execute code no matter what—whether an exception occurs or not.\n",
        "\n",
        "  - Purpose:\n",
        "     - Clean up resources (like closing files or database connections)\n",
        "     - Ensure certain code always runs (like logging or resetting values)\n",
        "           try:\n",
        "              x = 10 / 0\n",
        "           except ZeroDivisionError:\n",
        "              print(\"Error: Division by zero\")\n",
        "           finally:\n",
        "              print(\"This always runs\")\n",
        "\n",
        "           output - Error: Division by zero  \n",
        "                    This always runs   \n",
        "\n",
        "4.What is logging in Python?\n",
        "   - Logging in Python is the process of recording messages about a program’s execution. It's useful for debugging, monitoring, and tracking errors or events.\n",
        "  \n",
        "   - Purpose:\n",
        "      - Track the flow of a program\n",
        "      - Record errors, warnings, or info without using print()\n",
        "      - Useful in both development and production environments\n",
        "\n",
        "            import logging\n",
        "            logging.basicConfig(level=logging.INFO)\n",
        "            logging.info(\"This is an info message\")\n",
        "  \n",
        "   - Log Levels (from lowest to highest severity):\n",
        "        - DEBUG\n",
        "        - INFO\n",
        "        - WARNING\n",
        "        - ERROR\n",
        "        - CRITICAL\n",
        "\n",
        "5.What is the significance of the __del__ method in Python?\n",
        "   - The __del__ method in Python is a destructor. It is called automatically when an object is about to be destroyed (i.e., garbage collected).\n",
        "\n",
        "   - Purpose:\n",
        "     - To clean up resources (like closing files or network connections)\n",
        "     - To define custom behavior just before an object is deleted\n",
        "  \n",
        "           class MyClass:\n",
        "              def __del__(self):\n",
        "                  print(\"Object is being destroyed\")\n",
        "\n",
        "           obj = MyClass()\n",
        "           del obj  # Triggers __del__()\n",
        "   - Note:\n",
        "       - Use it carefully—Python’s garbage collection timing isn’t always predictable.\n",
        "       - Better to use with statements or context managers for resource cleanup.\n",
        "\n",
        "6.What is the difference between import and from ... import in Python?\n",
        "   - import:\n",
        "      - Imports the entire module.\n",
        "      - You must use the module name to access its functions or variables.\n",
        "\n",
        "            import math\n",
        "            print(math.sqrt(16))  # Access with math.\n",
        "\n",
        "  - from ... import:\n",
        "     - Imports specific items (functions, classes, variables) from a module.\n",
        "     - You don't need the module name to use them.\n",
        "\n",
        "            from math import sqrt\n",
        "            print(sqrt(16))  # No need to use math.\n",
        "\n",
        "\n",
        "7.How can you handle multiple exceptions in Python?\n",
        "   - You can handle multiple exceptions in Python using:\n",
        "       - 1. Multiple except blocks: Handle different exceptions separately.\n",
        "\n",
        "                try:\n",
        "                     x = int(\"abc\")\n",
        "                except ValueError:\n",
        "                     print(\"Value error occurred\")\n",
        "                except ZeroDivisionError:\n",
        "                     print(\"Division by zero\")\n",
        "\n",
        "    - 2. Single except with a tuple: Handle multiple exceptions with the same block.\n",
        "\n",
        "                try:\n",
        "                     x = int(\"abc\")\n",
        "                except (ValueError, ZeroDivisionError):\n",
        "                     print(\"An error occurred\")\n",
        "\n",
        "    - 3. Catch all exceptions (not recommended unless needed):\n",
        "                  \n",
        "                  x = 10 / 0\n",
        "                  except Exception as e:\n",
        "                         print(f\"Error: {e}\")\n",
        "\n",
        "8.What is the purpose of the with statement when handling files in Python?\n",
        "   - The with statement in Python is used to safely handle files and other resources by automatically managing setup and cleanup.\n",
        "\n",
        "   - Purpose:\n",
        "      - Opens a file and automatically closes it when done\n",
        "      - Prevents resource leaks, even if an error occurs\n",
        "\n",
        "            with open(\"file.txt\", \"r\") as f:\n",
        "            data = f.read()\n",
        "            # File is automatically closed here\n",
        "   - Without with: You must manually call f.close(), which can be error-prone.\n",
        "\n",
        "9.What is the difference between multithreading and multiprocessing?\n",
        "  - Multithreading:\n",
        "      - Uses multiple threads within the same process.\n",
        "      - Threads share the same memory space.\n",
        "      - Good for I/O-bound tasks (e.g., file or network operations).\n",
        "      - Limited by Python’s GIL (Global Interpreter Lock).\n",
        "\n",
        "            import threading\n",
        "  - Multiprocessing:\n",
        "     - Uses multiple processes, each with its own memory space.\n",
        "     - Better for CPU-bound tasks (e.g., heavy computations).\n",
        "     - Bypasses the GIL for true parallelism.\n",
        "\n",
        "            import multiprocessing\n",
        "\n",
        "10.What are the advantages of using logging in a program?\n",
        "   - Better than print()\n",
        "      - Logs can include timestamps, severity levels, and more.\n",
        "      - Easy to disable or redirect output without changing code.\n",
        "\n",
        "   - Helps in Debugging & Monitoring\n",
        "      - Tracks program flow and errors.\n",
        "      - Useful for identifying issues after deployment.\n",
        "\n",
        "   - Configurable Output\n",
        "      - Log to files, console, or external systems.\n",
        "      - Set log levels (DEBUG, INFO, WARNING, etc.).\n",
        "\n",
        "   - Maintains History\n",
        "      - Keeps a permanent record of events for audits or troubleshooting.\n",
        "\n",
        "   - Production-Friendly\n",
        "      - Doesn’t clutter standard output.\n",
        "      - Can run silently or log only important issues.\n",
        "\n",
        "\n",
        "11.What is memory management in Python?\n",
        "   - Memory management in Python refers to how Python handles allocation and deallocation of memory for objects during program execution.\n",
        "\n",
        "12.What are the basic steps involved in exception handling in Python?\n",
        "   - 1. Use a try block: Write the code that might raise an exception.\n",
        "                try:\n",
        "                x = 10 / 0\n",
        "   - 2. Add an except block: Handle the specific exception.\n",
        "               except ZeroDivisionError:\n",
        "                   print(\"Cannot divide by zero\")\n",
        "   - 3. Optionally use else: Runs if no exception occurs in the try block.\n",
        "\n",
        "            else:\n",
        "              print(\"Division successful\")\n",
        "   - 4. Optionally use finally\n",
        "Always runs, whether or not an exception occurred (used for cleanup).\n",
        "\n",
        "               finally:\n",
        "                   print(\"This always runs\")\n",
        "\n",
        "- Full Example:\n",
        "\n",
        "                 try:\n",
        "                     x = 10 / 2\n",
        "                except ZeroDivisionError:\n",
        "                     print(\"Error!\")\n",
        "                else:\n",
        "                    print(\"No error\")\n",
        "                finally:\n",
        "                    print(\"Done\")\n",
        "\n",
        "13.Why is memory management important in Python?\n",
        "  - Prevents Memory Leaks\n",
        "    - Automatically frees memory no longer in use.\n",
        "    - Keeps your program from consuming too much RAM.\n",
        "\n",
        "  - Improves Performance\n",
        "    - Frees up unused memory so it can be reused.\n",
        "    - Optimizes resource usage.\n",
        "\n",
        "  - Simplifies Coding\n",
        "    - Python handles memory behind the scenes using garbage collection and reference counting.\n",
        "    - Developers don’t need to manually allocate or free memory.\n",
        "\n",
        "   - Supports Large Applications\n",
        "     - Efficient memory use is crucial in big programs or data-heavy tasks.\n",
        "\n",
        "  - Avoids Crashes\n",
        "    - Poor memory use can cause programs to crash or slow down.\n",
        "\n",
        " - In short: Memory management helps Python programs stay fast, stable, and resource-efficient, especially as they grow in size or complexity.\n",
        "\n",
        "14.What is the role of try and except in exception handling?\n",
        "  - Role of try:\n",
        "       - Used to wrap code that might raise an error.\n",
        "       - Python tries to run the code inside it.\n",
        "\n",
        "           try:\n",
        "              x = 10 / 0  # risky code\n",
        "  - Role of except:\n",
        "     - Catches and handles the error if one occurs in the try block.\n",
        "     - Prevents the program from crashing.\n",
        "\n",
        "             except ZeroDivisionError:\n",
        "                   print(\"You can't divide by zero!\")\n",
        "  -  Example:\n",
        "\n",
        "          try:\n",
        "              x = int(\"abc\")\n",
        "          except ValueError:\n",
        "              print(\"Invalid input!\")\n",
        "\n",
        "  - In short:\n",
        "     - try: watches for errors\n",
        "     - except: handles errors if they occur\n",
        "\n",
        "15.How does Python's garbage collection system work?\n",
        "  - Python Garbage Collection (GC) in Short:\n",
        "    - Reference Counting:\n",
        "      - Every object tracks how many references point to it.\n",
        "      - When the count reaches zero, the object is deleted.\n",
        "\n",
        "    - Cycle Detection:\n",
        "       - Python can detect reference cycles (objects referring to each other) using the gc module.\n",
        "\n",
        "    - Generational GC:\n",
        "       - Objects are grouped into 3 generations.\n",
        "       - Younger generations are collected more often, improving efficiency.\n",
        "\n",
        "    - gc Module:\n",
        "      - Used to manually control or inspect garbage collection (gc.collect(), gc.get_count()).\n",
        "\n",
        "16.What is the purpose of the else block in exception handling0\n",
        "   -  Purpose of the else Block in Exception Handling (Python)\n",
        "      - In Python's exception handling, the else block is used to define code that should run only if no exceptions were raised in the try block.\n",
        "\n",
        "   - When is the else block executed?\n",
        "     - If the try block completes successfully (no exceptions thrown), the else block is executed.\n",
        "     - If an exception is raised, the else block is skipped, and control goes to the except block.\n",
        "             try:\n",
        "                  # Code that might raise an exception\n",
        "             except SomeException:\n",
        "                  # Handle exception\n",
        "             else:\n",
        "                  # Runs only if no exception occurred in try\n",
        "\n",
        "17.What are the common logging levels in Python?\n",
        "   - Python’s built-in logging module provides a flexible framework for emitting log messages from applications. It supports five standard logging levels, each with a corresponding severity.\n",
        "\n",
        "          import logging\n",
        "          logging.basicConfig(level=logging.DEBUG)\n",
        "\n",
        "          logging.debug(\"Debug message - 10\")   #Use DEBUG for detailed diagnostic information.\n",
        "  \n",
        "          logging.info(\"Info message - 20\")     #Use INFO for expected operational messages.\n",
        "\n",
        "          logging.warning(\"Warning message - 30\")  #Use WARNING for minor issues or deprecations.\n",
        "\n",
        "          logging.error(\"Error message - 40\")     #Use ERROR when catching and reporting errors.\n",
        "\n",
        "          logging.critical(\"Critical message - 50\")  #Use CRITICAL for serious failures that require immediate attention.\n",
        "\n",
        "18.What is the difference between os.fork() and multiprocessing in Python?\n",
        "   - Both os.fork() and the multiprocessing module allow you to create new processes, but they differ significantly in portability, ease of use, and control.\n",
        "\n",
        "   - os.fork()\n",
        "     - Low-level system call (Unix/Linux only).\n",
        "     - Creates a child process by duplicating the current process.\n",
        "     - The child and parent processes continue execution independently from the point of the fork() call.\n",
        "     - Available in the os module.\n",
        "\n",
        "              import os\n",
        "              pid = os.fork()\n",
        "              if pid == 0:\n",
        "                 print(\"Child process\")\n",
        "              else:\n",
        "                 print(\"Parent process\")\n",
        "\n",
        "   - Multiprocessing Module\n",
        "     - High-level API for creating and managing processes.\n",
        "     - Works on Windows, Linux, and macOS.\n",
        "     - Supports shared memory, queues, pipes, and synchronization primitives.\n",
        "         \n",
        "           from multiprocessing import Process\n",
        "           def worker():\n",
        "               print(\"Child process running\")\n",
        "\n",
        "           p = Process(target=worker)\n",
        "           p.start()\n",
        "           p.join()\n",
        "\n",
        "19.What is the importance of closing a file in Python?\n",
        "   - Closing a file in Python (using .close()) is essential for resource management, data integrity, and system performance.\n",
        "   - Frees up system resources - Each open file uses file descriptors. Closing the file releases those resources.\n",
        "   - Ensures data is written - Data may be buffered. Closing the file flushes the buffer to disk.\n",
        "   - Prevents data corruption\t- If a file isn’t properly closed, you risk losing data or causing file errors.\n",
        "   - Avoids too many open files-- \tSystems have a limit on how many files can be open at once.\n",
        "\n",
        "20.What is the difference between file.read() and file.readline() in Python?\n",
        "   - file.read():\n",
        "      - Reads entire file or specified number of characters.\n",
        "\n",
        "   - file.readline():\n",
        "       - Reads one line at a time from the file.\n",
        "\n",
        "\n",
        "21.What is the logging module in Python used for?\n",
        "   - The logging module in Python is used to track events that happen during a program’s execution. It helps with debugging, monitoring, and auditing by recording messages at different severity levels.\n",
        "   - Purpose of logging\n",
        "      - Diagnose problems without disrupting users.\n",
        "      - Record application flow and errors in a log file or console.\n",
        "      - Replaces print() for better control and scalability.\n",
        "\n",
        "\n",
        "\n",
        "22.What is the os module in Python used for in file handling?\n",
        "   - The os module in Python provides a way to interact with the operating system, especially for file and directory operations.\n",
        "\n",
        "   -  Why use it?\n",
        "     - Makes your code OS-independent.\n",
        "     - Allows you to manipulate the file system directly from Python.\n",
        "     - Useful for scripting, automation, and file management.\n",
        "\n",
        "23.What are the challenges associated with memory management in Python?\n",
        "   - Garbage collection of cyclic references\n",
        "   - Memory leaks from large or unused objects\n",
        "   - Inefficient memory use in large applications\n",
        "\n",
        "24.How do you raise an exception manually in Python?\n",
        "  - Syntax of raise an  exception manually\n",
        "\n",
        "              raise ValueError(\"Invalid input\")\n",
        "\n",
        "25.Why is it important to use multithreading in certain applications?\n",
        "   - To improve performance for I/O-bound tasks (e.g., file I/O, web scraping).\n",
        "   - Allows concurrent execution without blocking the main thread.\n",
        "\n"
      ],
      "metadata": {
        "id": "oXzJl7D4_ktd"
      }
    },
    {
      "cell_type": "code",
      "source": [
        "#1. How can you open a file for writing in Python and write a string to it?\n",
        "with open(\"example.txt\", \"w\") as file:\n",
        "    file.write(\"Hello, world!\")"
      ],
      "metadata": {
        "id": "VP1hmnV7gOs0"
      },
      "execution_count": 1,
      "outputs": []
    },
    {
      "cell_type": "code",
      "source": [
        "#2. Write a Python program to read the contents of a file and print each line?\n",
        "with open(\"example.txt\", \"r\") as file:\n",
        "    lines = file.readlines()\n",
        "    for line in lines:\n",
        "        print(line, end=\"\")"
      ],
      "metadata": {
        "colab": {
          "base_uri": "https://localhost:8080/"
        },
        "id": "jYEDRwC1e4na",
        "outputId": "cc2eb12e-b3a2-4939-b03a-57823e517c31"
      },
      "execution_count": 2,
      "outputs": [
        {
          "output_type": "stream",
          "name": "stdout",
          "text": [
            "Hello, world!"
          ]
        }
      ]
    },
    {
      "cell_type": "code",
      "source": [
        "#3. How would you handle a case where the file doesn't exist while trying to open it for reading?\n",
        "try:\n",
        "    with open(\"example.txt\", \"r\") as file:\n",
        "        for line in file:\n",
        "            print(line, end=\"\")\n",
        "except FileNotFoundError:\n",
        "    print(\"Error: The file 'example.txt' does not exist.\")"
      ],
      "metadata": {
        "colab": {
          "base_uri": "https://localhost:8080/"
        },
        "id": "6_vd0KH3e5Jd",
        "outputId": "85f56c3d-4afa-4fb9-f000-5a621dd91622"
      },
      "execution_count": 3,
      "outputs": [
        {
          "output_type": "stream",
          "name": "stdout",
          "text": [
            "Hello, world!"
          ]
        }
      ]
    },
    {
      "cell_type": "code",
      "source": [
        "#4. Write a Python script that reads from one file and writes its content to another file?\n",
        "# Read from source file and write to destination file\n",
        "with open(\"source.txt\", \"r\") as source_file:\n",
        "    content = source_file.read()\n",
        "\n",
        "with open(\"destination.txt\", \"w\") as destination_file:\n",
        "    destination_file.write(content)"
      ],
      "metadata": {
        "id": "Dz-FOq4Ue5QH"
      },
      "execution_count": 4,
      "outputs": []
    },
    {
      "cell_type": "code",
      "source": [
        "#5. How would you catch and handle division by zero error in Python?\n",
        "try:\n",
        "    result = 10 / 0\n",
        "except ZeroDivisionError:\n",
        "    print(\"Error: Cannot divide by zero.\")"
      ],
      "metadata": {
        "colab": {
          "base_uri": "https://localhost:8080/"
        },
        "id": "fIyt_tTAe5WI",
        "outputId": "326ab989-d6f4-49ae-bdd3-33fa41f1ed39"
      },
      "execution_count": 5,
      "outputs": [
        {
          "output_type": "stream",
          "name": "stdout",
          "text": [
            "Error: Cannot divide by zero.\n"
          ]
        }
      ]
    },
    {
      "cell_type": "code",
      "source": [
        "#6. Write a Python program that logs an error message to a log file when a division by zero exception occurs?\n",
        "\n",
        "import logging\n",
        "\n",
        "# Configure logging\n",
        "logging.basicConfig(filename='error_log.txt', level=logging.ERROR,\n",
        "                    format='%(asctime)s - %(levelname)s - %(message)s')\n",
        "\n",
        "try:\n",
        "    x = 10\n",
        "    y = 0\n",
        "    result = x / y\n",
        "except ZeroDivisionError as e:\n",
        "    logging.error(\"Division by zero error: %s\", e)\n",
        "    print(\"An error occurred. Check the log file for details.\")\n"
      ],
      "metadata": {
        "colab": {
          "base_uri": "https://localhost:8080/"
        },
        "id": "u2MNP4Roe5cH",
        "outputId": "df891916-adcb-4011-affe-b95fb1c53904"
      },
      "execution_count": 6,
      "outputs": [
        {
          "output_type": "stream",
          "name": "stderr",
          "text": [
            "ERROR:root:Division by zero error: division by zero\n"
          ]
        },
        {
          "output_type": "stream",
          "name": "stdout",
          "text": [
            "An error occurred. Check the log file for details.\n"
          ]
        }
      ]
    },
    {
      "cell_type": "code",
      "source": [
        "#7. How do you log information at different levels (INFO, ERROR, WARNING) in Python using the logging module?\n",
        "import logging\n",
        "\n",
        "# Configure logging\n",
        "logging.basicConfig(level=logging.DEBUG,  # Set the minimum logging level\n",
        "                    format='%(asctime)s - %(levelname)s - %(message)s')\n",
        "\n",
        "# Log messages at different levels\n",
        "logging.debug(\"This is a DEBUG message\")\n",
        "logging.info(\"This is an INFO message\")\n",
        "logging.warning(\"This is a WARNING message\")\n",
        "logging.error(\"This is an ERROR message\")\n",
        "logging.critical(\"This is a CRITICAL message\")\n"
      ],
      "metadata": {
        "id": "5WQ5HxChe5iS"
      },
      "execution_count": null,
      "outputs": []
    },
    {
      "cell_type": "code",
      "source": [
        "#8. Write a program to handle a file opening error using exception handling?\n",
        "try:\n",
        "    with open(\"nonexistent_file.txt\", \"r\") as file:\n",
        "        content = file.read()\n",
        "        print(content)\n",
        "except FileNotFoundError:\n",
        "    print(\"Error: The file does not exist.\")\n",
        "except IOError:\n",
        "    print(\"Error: Unable to read the file.\")\n",
        ""
      ],
      "metadata": {
        "colab": {
          "base_uri": "https://localhost:8080/"
        },
        "id": "K6ICfNaAe5oZ",
        "outputId": "279ee777-22ae-434a-81a3-a2f5945500af"
      },
      "execution_count": 7,
      "outputs": [
        {
          "output_type": "stream",
          "name": "stdout",
          "text": [
            "Error: The file does not exist.\n"
          ]
        }
      ]
    },
    {
      "cell_type": "code",
      "source": [
        "#9. How can you read a file line by line and store its content in a list in Python?\n",
        "lines = []\n",
        "with open(\"example.txt\", \"r\") as file:\n",
        "    for line in file:\n",
        "        lines.append(line.rstrip('\\n'))  # Removes the newline character at the end\n",
        "\n",
        "print(lines)\n"
      ],
      "metadata": {
        "colab": {
          "base_uri": "https://localhost:8080/"
        },
        "id": "PbLTLp8Qe5uD",
        "outputId": "526813c5-cd4b-4db9-cd7c-4a92a9b70dc0"
      },
      "execution_count": 8,
      "outputs": [
        {
          "output_type": "stream",
          "name": "stdout",
          "text": [
            "['Hello, world!']\n"
          ]
        }
      ]
    },
    {
      "cell_type": "code",
      "source": [
        "#10. How can you append data to an existing file in Python?\n",
        "with open(\"example.txt\", \"a\") as file:\n",
        "    file.write(\"This text will be added at the end of the file.\\n\")\n"
      ],
      "metadata": {
        "id": "pvnSJ1ZAe50D"
      },
      "execution_count": 9,
      "outputs": []
    },
    {
      "cell_type": "code",
      "source": [
        "#11. Write a Python program that uses a try-except block to handle an error when attempting to access a dictionary key that doesn't exist.\n",
        "\n",
        "my_dict = {'a': 1, 'b': 2}\n",
        "\n",
        "try:\n",
        "    value = my_dict['c']  # Key 'c' doesn't exist\n",
        "except KeyError:\n",
        "    print(\"Error: The key 'c' does not exist in the dictionary.\")\n",
        ""
      ],
      "metadata": {
        "colab": {
          "base_uri": "https://localhost:8080/"
        },
        "id": "uKfApCzde55v",
        "outputId": "aa00c8d4-71c6-411b-bc98-e406f66761b3"
      },
      "execution_count": 10,
      "outputs": [
        {
          "output_type": "stream",
          "name": "stdout",
          "text": [
            "Error: The key 'c' does not exist in the dictionary.\n"
          ]
        }
      ]
    },
    {
      "cell_type": "code",
      "source": [
        "#12. Write a program that demonstrates using multiple except blocks to handle different types of exceptions?\n",
        "\n",
        "try:\n",
        "    num = int(input(\"Enter a number: \"))\n",
        "    result = 10 / num\n",
        "    my_list = [1, 2, 3]\n",
        "    print(my_list[num])\n",
        "except ValueError:\n",
        "    print(\"Error: Invalid input. Please enter a number.\")\n",
        "except ZeroDivisionError:\n",
        "    print(\"Error: Cannot divide by zero.\")\n",
        "except IndexError:\n",
        "    print(\"Error: List index out of range.\")\n",
        ""
      ],
      "metadata": {
        "colab": {
          "base_uri": "https://localhost:8080/"
        },
        "id": "RUepPGsbe6X4",
        "outputId": "87f7b55b-c5be-4e43-ee70-cf6787d28a6e"
      },
      "execution_count": 13,
      "outputs": [
        {
          "output_type": "stream",
          "name": "stdout",
          "text": [
            "Enter a number: 10\n",
            "Error: List index out of range.\n"
          ]
        }
      ]
    },
    {
      "cell_type": "code",
      "source": [
        "#13. How would you check if a file exists before attempting to read it in Python?\n",
        "\n",
        "import os\n",
        "\n",
        "filename = \"example.txt\"\n",
        "if os.path.exists(filename):\n",
        "    with open(filename, \"r\") as file:\n",
        "        print(file.read())\n",
        "else:\n",
        "    print(f\"The file '{filename}' does not exist.\")\n",
        ""
      ],
      "metadata": {
        "colab": {
          "base_uri": "https://localhost:8080/"
        },
        "id": "kHUs_bB6e6do",
        "outputId": "28894cd7-4940-4d61-b084-e97a2fb25dd9"
      },
      "execution_count": 12,
      "outputs": [
        {
          "output_type": "stream",
          "name": "stdout",
          "text": [
            "Hello, world!This text will be added at the end of the file.\n",
            "\n"
          ]
        }
      ]
    },
    {
      "cell_type": "code",
      "source": [
        "#14. Write a program that uses the logging module to log both informational and error messages?\n",
        "\n",
        "import logging\n",
        "\n",
        "logging.basicConfig(level=logging.DEBUG, format='%(asctime)s - %(levelname)s - %(message)s')\n",
        "\n",
        "logging.info(\"This is an informational message.\")\n",
        "try:\n",
        "    1 / 0\n",
        "except ZeroDivisionError:\n",
        "    logging.error(\"Error: Division by zero occurred.\")\n",
        ""
      ],
      "metadata": {
        "colab": {
          "base_uri": "https://localhost:8080/"
        },
        "id": "TahDMxcGe6jW",
        "outputId": "6b24cd90-b384-4645-c24d-eb8529d6528e"
      },
      "execution_count": 14,
      "outputs": [
        {
          "output_type": "stream",
          "name": "stderr",
          "text": [
            "ERROR:root:Error: Division by zero occurred.\n"
          ]
        }
      ]
    },
    {
      "cell_type": "code",
      "source": [
        "#15. Write a Python program that prints the content of a file and handles the case when the file is empty?\n",
        "\n",
        "filename = \"example.txt\"\n",
        "\n",
        "with open(filename, \"r\") as file:\n",
        "    content = file.read()\n",
        "    if content:\n",
        "        print(content)\n",
        "    else:\n",
        "        print(\"The file is empty.\")\n"
      ],
      "metadata": {
        "colab": {
          "base_uri": "https://localhost:8080/"
        },
        "id": "kz1TvYghiWUO",
        "outputId": "642e5294-c051-422a-ba12-53b9618a863f"
      },
      "execution_count": 15,
      "outputs": [
        {
          "output_type": "stream",
          "name": "stdout",
          "text": [
            "Hello, world!This text will be added at the end of the file.\n",
            "\n"
          ]
        }
      ]
    },
    {
      "cell_type": "code",
      "source": [
        "#16. Demonstrate how to use memory profiling to check the memory usage of a small program?\n",
        "\n",
        "# Requires memory_profiler package: pip install memory_profiler\n",
        "\n",
        "from memory_profiler import profile\n",
        "\n",
        "@profile\n",
        "def my_function():\n",
        "    a = [i for i in range(100000)]\n",
        "    return sum(a)\n",
        "\n",
        "if __name__ == \"__main__\":\n",
        "    my_function()\n",
        ""
      ],
      "metadata": {
        "id": "rmUDEPkZiWQ7"
      },
      "execution_count": 16,
      "outputs": []
    },
    {
      "cell_type": "code",
      "source": [
        "#17. Write a Python program to create and write a list of numbers to a file, one number per line.\n",
        "\n",
        "numbers = [10, 20, 30, 40, 50]\n",
        "\n",
        "with open(\"numbers.txt\", \"w\") as file:\n",
        "    for number in numbers:\n",
        "        file.write(str(number) + \"\\n\")\n",
        ""
      ],
      "metadata": {
        "id": "QZZaKOTNiWNA"
      },
      "execution_count": 17,
      "outputs": []
    },
    {
      "cell_type": "code",
      "source": [
        "#18. #18. How would you implement a basic logging setup that logs to a file with rotation after 1MB?\n",
        "\n",
        "import logging\n",
        "from logging.handlers import RotatingFileHandler\n",
        "\n",
        "logger = logging.getLogger(\"MyLogger\")\n",
        "logger.setLevel(logging.DEBUG)\n",
        "\n",
        "handler = RotatingFileHandler(\"my_log.log\", maxBytes=1_000_000, backupCount=3)\n",
        "formatter = logging.Formatter('%(asctime)s - %(levelname)s - %(message)s')\n",
        "handler.setFormatter(formatter)\n",
        "\n",
        "logger.addHandler(handler)\n",
        "\n",
        "logger.info(\"This is an info message.\")"
      ],
      "metadata": {
        "colab": {
          "base_uri": "https://localhost:8080/"
        },
        "id": "j2U7jBq0iWJN",
        "outputId": "73f4276a-e2d7-4950-a81f-757a4dfa7b34"
      },
      "execution_count": 18,
      "outputs": [
        {
          "output_type": "stream",
          "name": "stderr",
          "text": [
            "INFO:MyLogger:This is an info message.\n"
          ]
        }
      ]
    },
    {
      "cell_type": "code",
      "source": [
        "#19.#19. Write a program that handles both IndexError and KeyError using a try-except block.\n",
        "\n",
        "my_list = [1, 2, 3]\n",
        "my_dict = {'a': 10, 'b': 20}\n",
        "\n",
        "try:\n",
        "    print(my_list[5])       # IndexError\n",
        "    print(my_dict['c'])     # KeyError\n",
        "except IndexError:\n",
        "    print(\"IndexError: List index out of range.\")\n",
        "except KeyError:\n",
        "    print(\"KeyError: Key not found in dictionary.\")"
      ],
      "metadata": {
        "colab": {
          "base_uri": "https://localhost:8080/"
        },
        "id": "i6PfUyzCiWFj",
        "outputId": "a5a70ee3-e20c-4048-cc16-8c4fe831d9a3"
      },
      "execution_count": 19,
      "outputs": [
        {
          "output_type": "stream",
          "name": "stdout",
          "text": [
            "IndexError: List index out of range.\n"
          ]
        }
      ]
    },
    {
      "cell_type": "code",
      "source": [
        "#20. How would you open a file and read its contents using a context manager in Python?\n",
        "\n",
        "with open(\"example.txt\", \"r\") as file:\n",
        "    contents = file.read()\n",
        "    print(contents)"
      ],
      "metadata": {
        "colab": {
          "base_uri": "https://localhost:8080/"
        },
        "id": "slXhm3MTiWB6",
        "outputId": "624c4755-119e-4427-9abc-171a3dc62b6f"
      },
      "execution_count": 20,
      "outputs": [
        {
          "output_type": "stream",
          "name": "stdout",
          "text": [
            "Hello, world!This text will be added at the end of the file.\n",
            "\n"
          ]
        }
      ]
    },
    {
      "cell_type": "code",
      "source": [
        "#21. Write a Python program that reads a file and prints the number of occurrences of a specific word.\n",
        "\n",
        "filename = \"example.txt\"\n",
        "word_to_count = \"Python\"\n",
        "\n",
        "with open(filename, \"r\") as file:\n",
        "    text = file.read()\n",
        "\n",
        "count = text.lower().split().count(word_to_count.lower())\n",
        "print(f\"The word '{word_to_count}' occurs {count} times.\")"
      ],
      "metadata": {
        "colab": {
          "base_uri": "https://localhost:8080/"
        },
        "id": "p30nC5XYiV-d",
        "outputId": "03e10cf5-77e6-4881-dbd1-10733da7fa99"
      },
      "execution_count": 21,
      "outputs": [
        {
          "output_type": "stream",
          "name": "stdout",
          "text": [
            "The word 'Python' occurs 0 times.\n"
          ]
        }
      ]
    },
    {
      "cell_type": "code",
      "source": [
        "#22. #22. How can you check if a file is empty before attempting to read its contents?\n",
        "\n",
        "import os\n",
        "\n",
        "filename = \"example.txt\"\n",
        "\n",
        "if os.path.exists(filename) and os.path.getsize(filename) > 0:\n",
        "    with open(filename, \"r\") as file:\n",
        "        print(file.read())\n",
        "else:\n",
        "    print(\"The file is empty or does not exist.\")"
      ],
      "metadata": {
        "colab": {
          "base_uri": "https://localhost:8080/"
        },
        "id": "yH60cJoXiV6b",
        "outputId": "3ad31f13-6342-4576-e275-378c5280b867"
      },
      "execution_count": 22,
      "outputs": [
        {
          "output_type": "stream",
          "name": "stdout",
          "text": [
            "Hello, world!This text will be added at the end of the file.\n",
            "\n"
          ]
        }
      ]
    },
    {
      "cell_type": "code",
      "source": [
        "#23. Write a Python program that writes to a log file when an error occurs during file handling.\n",
        "\n",
        "import logging\n",
        "\n",
        "logging.basicConfig(filename='file_error.log', level=logging.ERROR,\n",
        "                    format='%(asctime)s - %(levelname)s - %(message)s')\n",
        "\n",
        "try:\n",
        "    with open(\"nonexistent_file.txt\", \"r\") as file:\n",
        "        content = file.read()\n",
        "except Exception as e:\n",
        "    logging.error(\"Error occurred while handling the file: %s\", e)\n",
        "    print(\"An error occurred. Check the log file for details.\")"
      ],
      "metadata": {
        "colab": {
          "base_uri": "https://localhost:8080/"
        },
        "id": "juMyClr3iV2f",
        "outputId": "9a181f65-8243-41e6-e402-89069d8ab525"
      },
      "execution_count": 23,
      "outputs": [
        {
          "output_type": "stream",
          "name": "stderr",
          "text": [
            "ERROR:root:Error occurred while handling the file: [Errno 2] No such file or directory: 'nonexistent_file.txt'\n"
          ]
        },
        {
          "output_type": "stream",
          "name": "stdout",
          "text": [
            "An error occurred. Check the log file for details.\n"
          ]
        }
      ]
    }
  ]
}